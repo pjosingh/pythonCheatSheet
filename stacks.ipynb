{
 "cells": [
  {
   "cell_type": "markdown",
   "metadata": {},
   "source": [
    "# Creating stacks "
   ]
  },
  {
   "cell_type": "code",
   "execution_count": 4,
   "metadata": {},
   "outputs": [
    {
     "name": "stdout",
     "output_type": "stream",
     "text": [
      "Top item is: 30\n",
      "Stack size is: 3\n",
      "Popped item: 30\n",
      "Stack size after pop: 2\n"
     ]
    }
   ],
   "source": [
    "class Stack:\n",
    "    def __init__(self):\n",
    "        self.items = []\n",
    "\n",
    "    def is_empty(self):\n",
    "        \"\"\"Check if the stack is empty.\"\"\"\n",
    "        return len(self.items) == 0\n",
    "\n",
    "    def push(self, item):\n",
    "        \"\"\"Add an item to the top of the stack.\"\"\"\n",
    "        self.items.append(item)\n",
    "\n",
    "    def pop(self):\n",
    "        \"\"\"Remove and return the top item of the stack. Returns None if the stack is empty.\"\"\"\n",
    "        if not self.is_empty():\n",
    "            return self.items.pop()\n",
    "        return None\n",
    "\n",
    "    def peek(self):\n",
    "        \"\"\"Return the top item of the stack without removing it. Returns None if the stack is empty.\"\"\"\n",
    "        if not self.is_empty():\n",
    "            return self.items[-1]\n",
    "        return None\n",
    "\n",
    "    def size(self):\n",
    "        \"\"\"Return the number of items in the stack.\"\"\"\n",
    "        return len(self.items)\n",
    "\n",
    "# Example usage:\n",
    "stack = Stack()\n",
    "stack.push(10)\n",
    "stack.push(20)\n",
    "stack.push(30)\n",
    "\n",
    "print(\"Top item is:\", stack.peek())   # Output: Top item is: 30\n",
    "print(\"Stack size is:\", stack.size()) # Output: Stack size is: 3\n",
    "\n",
    "print(\"Popped item:\", stack.pop())    # Output: Popped item: 30\n",
    "print(\"Stack size after pop:\", stack.size()) # Output: Stack size after pop: 2\n"
   ]
  },
  {
   "cell_type": "markdown",
   "metadata": {},
   "source": [
    "## Using collections instead because its more efficient "
   ]
  },
  {
   "cell_type": "code",
   "execution_count": 5,
   "metadata": {},
   "outputs": [
    {
     "name": "stdout",
     "output_type": "stream",
     "text": [
      "Top item is: 30\n",
      "Popped item: 30\n",
      "Is stack empty? False\n",
      "Stack size is: 2\n"
     ]
    }
   ],
   "source": [
    "from collections import deque\n",
    "\n",
    "# Initialize a stack\n",
    "stack = deque()\n",
    "\n",
    "# Push items to the stack\n",
    "stack.append(10)\n",
    "stack.append(20)\n",
    "stack.append(30)\n",
    "\n",
    "# Peek at the top item\n",
    "top_item = stack[-1]\n",
    "print(\"Top item is:\", top_item)  # Output: Top item is: 30\n",
    "\n",
    "# Pop items from the stack\n",
    "popped_item = stack.pop()\n",
    "print(\"Popped item:\", popped_item)  # Output: Popped item: 30\n",
    "\n",
    "# Check if stack is empty\n",
    "is_empty = len(stack) == 0\n",
    "print(\"Is stack empty?\", is_empty)  # Output: Is stack empty? False\n",
    "\n",
    "# Stack size\n",
    "stack_size = len(stack)\n",
    "print(\"Stack size is:\", stack_size)  # Output: Stack size is: 2\n"
   ]
  }
 ],
 "metadata": {
  "kernelspec": {
   "display_name": "Python 3",
   "language": "python",
   "name": "python3"
  },
  "language_info": {
   "codemirror_mode": {
    "name": "ipython",
    "version": 3
   },
   "file_extension": ".py",
   "mimetype": "text/x-python",
   "name": "python",
   "nbconvert_exporter": "python",
   "pygments_lexer": "ipython3",
   "version": "3.12.4"
  }
 },
 "nbformat": 4,
 "nbformat_minor": 2
}
