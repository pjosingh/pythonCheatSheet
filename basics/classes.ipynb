{
 "cells": [
  {
   "cell_type": "code",
   "execution_count": 1,
   "metadata": {},
   "outputs": [
    {
     "name": "stdout",
     "output_type": "stream",
     "text": [
      "Generic Animal makes a sound.\n",
      "Buddy barks.\n",
      "Golden Retriever\n"
     ]
    }
   ],
   "source": [
    "# Parent class\n",
    "class Animal:\n",
    "    def __init__(self, name, age):\n",
    "        self.name = name  # Initialize name\n",
    "        self.age = age    # Initialize age\n",
    "\n",
    "    def speak(self):\n",
    "        return f\"{self.name} makes a sound.\"\n",
    "\n",
    "# Child class inheriting from Animal\n",
    "class Dog(Animal):\n",
    "    def __init__(self, name, age, breed):\n",
    "        # Call the parent class's __init__ method to initialize 'name' and 'age'\n",
    "        super().__init__(name, age)\n",
    "        self.breed = breed  # Initialize additional variable unique to Dog\n",
    "\n",
    "    def speak(self):\n",
    "        return f\"{self.name} barks.\"\n",
    "\n",
    "# Create instances\n",
    "animal = Animal(\"Generic Animal\", 5)\n",
    "dog = Dog(\"Buddy\", 3, \"Golden Retriever\")\n",
    "\n",
    "print(animal.speak())   # Output: \"Generic Animal makes a sound.\"\n",
    "print(dog.speak())      # Output: \"Buddy barks.\"\n",
    "print(dog.breed)        # Output: \"Golden Retriever\""
   ]
  }
 ],
 "metadata": {
  "kernelspec": {
   "display_name": "Python 3",
   "language": "python",
   "name": "python3"
  },
  "language_info": {
   "codemirror_mode": {
    "name": "ipython",
    "version": 3
   },
   "file_extension": ".py",
   "mimetype": "text/x-python",
   "name": "python",
   "nbconvert_exporter": "python",
   "pygments_lexer": "ipython3",
   "version": "3.12.4"
  }
 },
 "nbformat": 4,
 "nbformat_minor": 2
}
