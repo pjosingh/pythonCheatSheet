{
 "cells": [
  {
   "cell_type": "markdown",
   "metadata": {},
   "source": [
    "# Basic implementation"
   ]
  },
  {
   "cell_type": "code",
   "execution_count": 1,
   "metadata": {},
   "outputs": [
    {
     "name": "stdout",
     "output_type": "stream",
     "text": [
      "Value for 'apple': 10\n",
      "Value for 'banana': 20\n",
      "After removing 'banana': [[], [['apple', 10]], [], [], [], [['orange', 30]], [], [], [], []]\n",
      "Hash Table: [[], [['apple', 10]], [], [], [], [['orange', 30]], [], [], [], []]\n"
     ]
    }
   ],
   "source": [
    "class HashTable:\n",
    "    def __init__(self, size=10):\n",
    "        self.size = size\n",
    "        self.table = [[] for _ in range(self.size)]  # Initialize an array of empty lists (buckets)\n",
    "\n",
    "    def _hash(self, key):\n",
    "        \"\"\"Hash function to map keys to bucket index.\"\"\"\n",
    "        return hash(key) % self.size\n",
    "\n",
    "    def insert(self, key, value):\n",
    "        \"\"\"Insert a key-value pair into the hash table.\"\"\"\n",
    "        index = self._hash(key)\n",
    "        # Check if the key already exists in the bucket\n",
    "        for pair in self.table[index]:\n",
    "            if pair[0] == key:\n",
    "                pair[1] = value  # Update the value if the key is found\n",
    "                return\n",
    "        # If key does not exist, append the new key-value pair\n",
    "        self.table[index].append([key, value])\n",
    "\n",
    "    def get(self, key):\n",
    "        \"\"\"Retrieve a value by its key.\"\"\"\n",
    "        index = self._hash(key)\n",
    "        for pair in self.table[index]:\n",
    "            if pair[0] == key:\n",
    "                return pair[1]  # Return the value if key is found\n",
    "        return None  # Return None if key is not found\n",
    "\n",
    "    def remove(self, key):\n",
    "        \"\"\"Remove a key-value pair from the hash table.\"\"\"\n",
    "        index = self._hash(key)\n",
    "        for i, pair in enumerate(self.table[index]):\n",
    "            if pair[0] == key:\n",
    "                del self.table[index][i]  # Delete the pair if key is found\n",
    "                return\n",
    "        print(f\"Key '{key}' not found.\")\n",
    "\n",
    "    def __str__(self):\n",
    "        \"\"\"For printing the hash table.\"\"\"\n",
    "        return str(self.table)\n",
    "\n",
    "\n",
    "# Example usage:\n",
    "ht = HashTable()\n",
    "\n",
    "# Insert key-value pairs\n",
    "ht.insert(\"apple\", 10)\n",
    "ht.insert(\"banana\", 20)\n",
    "ht.insert(\"orange\", 30)\n",
    "\n",
    "# Retrieve values\n",
    "print(\"Value for 'apple':\", ht.get(\"apple\"))   # Output: Value for 'apple': 10\n",
    "print(\"Value for 'banana':\", ht.get(\"banana\")) # Output: Value for 'banana': 20\n",
    "\n",
    "# Remove a key\n",
    "ht.remove(\"banana\")\n",
    "print(\"After removing 'banana':\", ht)          # Output: [['apple', 10], ['orange', 30]]\n",
    "\n",
    "# Print the hash table structure\n",
    "print(\"Hash Table:\", ht)\n"
   ]
  },
  {
   "cell_type": "code",
   "execution_count": 2,
   "metadata": {},
   "outputs": [
    {
     "name": "stdout",
     "output_type": "stream",
     "text": [
      "[[], [], [], [], [], [], [], [], [], []]\n"
     ]
    }
   ],
   "source": [
    "ll= [[] for _ in range(10)]\n",
    "print(ll)"
   ]
  }
 ],
 "metadata": {
  "kernelspec": {
   "display_name": "Python 3",
   "language": "python",
   "name": "python3"
  },
  "language_info": {
   "codemirror_mode": {
    "name": "ipython",
    "version": 3
   },
   "file_extension": ".py",
   "mimetype": "text/x-python",
   "name": "python",
   "nbconvert_exporter": "python",
   "pygments_lexer": "ipython3",
   "version": "3.12.4"
  }
 },
 "nbformat": 4,
 "nbformat_minor": 2
}
