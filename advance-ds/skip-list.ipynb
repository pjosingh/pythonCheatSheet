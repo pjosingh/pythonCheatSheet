{
 "cells": [
  {
   "cell_type": "code",
   "execution_count": 1,
   "metadata": {},
   "outputs": [
    {
     "name": "stdout",
     "output_type": "stream",
     "text": [
      "True\n",
      "None\n"
     ]
    }
   ],
   "source": [
    "import random\n",
    "\n",
    "class Node:\n",
    "    def __init__(self, value, level):\n",
    "        self.value = value\n",
    "        self.forward = [None] * (level + 1)\n",
    "\n",
    "class SkipList:\n",
    "    def __init__(self, max_level):\n",
    "        self.max_level = max_level\n",
    "        self.head = Node(-1, max_level)\n",
    "        self.level = 0\n",
    "\n",
    "    def random_level(self):\n",
    "        lvl = 0\n",
    "        while random.random() < 0.5 and lvl < self.max_level:\n",
    "            lvl += 1\n",
    "        return lvl\n",
    "\n",
    "    def insert(self, value):\n",
    "        update = [None] * (self.max_level + 1)\n",
    "        node = self.head\n",
    "        for i in range(self.level, -1, -1):\n",
    "            while node.forward[i] and node.forward[i].value < value:\n",
    "                node = node.forward[i]\n",
    "            update[i] = node\n",
    "        lvl = self.random_level()\n",
    "        if lvl > self.level:\n",
    "            for i in range(self.level + 1, lvl + 1):\n",
    "                update[i] = self.head\n",
    "            self.level = lvl\n",
    "        new_node = Node(value, lvl)\n",
    "        for i in range(lvl + 1):\n",
    "            new_node.forward[i] = update[i].forward[i]\n",
    "            update[i].forward[i] = new_node\n",
    "\n",
    "    def search(self, value):\n",
    "        node = self.head\n",
    "        for i in range(self.level, -1, -1):\n",
    "            while node.forward[i] and node.forward[i].value < value:\n",
    "                node = node.forward[i]\n",
    "        node = node.forward[0]\n",
    "        return node and node.value == value\n",
    "\n",
    "# Usage example\n",
    "skiplist = SkipList(3)\n",
    "skiplist.insert(10)\n",
    "skiplist.insert(20)\n",
    "print(skiplist.search(10))  # True\n",
    "print(skiplist.search(30))  # False\n"
   ]
  }
 ],
 "metadata": {
  "kernelspec": {
   "display_name": "Python 3",
   "language": "python",
   "name": "python3"
  },
  "language_info": {
   "codemirror_mode": {
    "name": "ipython",
    "version": 3
   },
   "file_extension": ".py",
   "mimetype": "text/x-python",
   "name": "python",
   "nbconvert_exporter": "python",
   "pygments_lexer": "ipython3",
   "version": "3.12.4"
  }
 },
 "nbformat": 4,
 "nbformat_minor": 2
}
