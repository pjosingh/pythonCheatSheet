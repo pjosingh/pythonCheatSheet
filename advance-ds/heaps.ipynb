{
 "cells": [
  {
   "cell_type": "markdown",
   "metadata": {},
   "source": [
    "# Basic heap first"
   ]
  },
  {
   "cell_type": "code",
   "execution_count": 6,
   "metadata": {},
   "outputs": [
    {
     "name": "stdout",
     "output_type": "stream",
     "text": [
      "Heap: [30, 20, 5, 10]\n",
      "Max value extracted: 30\n",
      "Heap after extraction: [20, 10, 5]\n"
     ]
    }
   ],
   "source": [
    "class MaxHeap:\n",
    "    def __init__(self):\n",
    "        self.heap = []\n",
    "\n",
    "    def insert(self, value):\n",
    "        \"\"\"Insert a new value into the heap.\"\"\"\n",
    "        self.heap.append(value)\n",
    "        self._bubble_up(len(self.heap) - 1)\n",
    "\n",
    "    def _bubble_up(self, index):\n",
    "        \"\"\"Bubble up the value at index to maintain the max heap property.\"\"\"\n",
    "        parent_index = (index - 1) // 2\n",
    "        if index > 0 and self.heap[index] > self.heap[parent_index]:\n",
    "            # Swap if the current node is greater than the parent\n",
    "            self.heap[index], self.heap[parent_index] = self.heap[parent_index], self.heap[index]\n",
    "            self._bubble_up(parent_index)\n",
    "\n",
    "    def extract_max(self):\n",
    "        \"\"\"Remove and return the maximum value from the heap.\"\"\"\n",
    "        if not self.heap:\n",
    "            return None\n",
    "        max_value = self.heap[0]\n",
    "        # Move the last element to the root\n",
    "        self.heap[0] = self.heap[-1]\n",
    "        self.heap.pop()\n",
    "        self._bubble_down(0)\n",
    "        return max_value\n",
    "\n",
    "    def _bubble_down(self, index):\n",
    "        \"\"\"Bubble down the value at index to maintain the max heap property.\"\"\"\n",
    "        largest = index\n",
    "        left_child_index = 2 * index + 1\n",
    "        right_child_index = 2 * index + 2\n",
    "\n",
    "        # Check if left child exists and is greater than the current largest\n",
    "        if (left_child_index < len(self.heap) and \n",
    "            self.heap[left_child_index] > self.heap[largest]):\n",
    "            largest = left_child_index\n",
    "\n",
    "        # Check if right child exists and is greater than the current largest\n",
    "        if (right_child_index < len(self.heap) and \n",
    "            self.heap[right_child_index] > self.heap[largest]):\n",
    "            largest = right_child_index\n",
    "\n",
    "        if largest != index:\n",
    "            # Swap and continue bubbling down\n",
    "            self.heap[index], self.heap[largest] = self.heap[largest], self.heap[index]\n",
    "            self._bubble_down(largest)\n",
    "\n",
    "    def peek(self):\n",
    "        \"\"\"Return the maximum value without removing it.\"\"\"\n",
    "        return self.heap[0] if self.heap else None\n",
    "\n",
    "    def size(self):\n",
    "        \"\"\"Return the number of elements in the heap.\"\"\"\n",
    "        return len(self.heap)\n",
    "\n",
    "    def __str__(self):\n",
    "        \"\"\"For printing the heap.\"\"\"\n",
    "        return str(self.heap)\n",
    "\n",
    "\n",
    "# Example usage:\n",
    "max_heap = MaxHeap()\n",
    "max_heap.insert(10)\n",
    "max_heap.insert(20)\n",
    "max_heap.insert(5)\n",
    "max_heap.insert(30)\n",
    "\n",
    "print(\"Heap:\", max_heap)             # Output: Heap: [30, 20, 5, 10]\n",
    "print(\"Max value extracted:\", max_heap.extract_max())  # Output: Max value extracted: 30\n",
    "print(\"Heap after extraction:\", max_heap)             # Output: Heap after extraction: [20, 10, 5]\n"
   ]
  },
  {
   "cell_type": "markdown",
   "metadata": {},
   "source": [
    "\n",
    "# Inbuilt heaps "
   ]
  },
  {
   "cell_type": "code",
   "execution_count": 7,
   "metadata": {},
   "outputs": [
    {
     "name": "stdout",
     "output_type": "stream",
     "text": [
      "Max Heap: [30, 20, 5, 10]\n",
      "Max value extracted: 30\n",
      "Max Heap after extraction: [20, 10, 5]\n"
     ]
    }
   ],
   "source": [
    "import heapq\n",
    "\n",
    "class MaxHeap:\n",
    "    def __init__(self):\n",
    "        self.heap = []\n",
    "\n",
    "    def insert(self, value):\n",
    "        \"\"\"Insert a new value into the max heap.\"\"\"\n",
    "        heapq.heappush(self.heap, -value)  # Push negative value to simulate max heap\n",
    "\n",
    "    def extract_max(self):\n",
    "        \"\"\"Remove and return the maximum value from the max heap.\"\"\"\n",
    "        return -heapq.heappop(self.heap) if self.heap else None  # Return negative of popped value\n",
    "\n",
    "    def peek(self):\n",
    "        \"\"\"Return the maximum value without removing it.\"\"\"\n",
    "        return -self.heap[0] if self.heap else None\n",
    "\n",
    "    def size(self):\n",
    "        \"\"\"Return the number of elements in the max heap.\"\"\"\n",
    "        return len(self.heap)\n",
    "\n",
    "    def __str__(self):\n",
    "        \"\"\"For printing the max heap.\"\"\"\n",
    "        return str([-x for x in self.heap])  # Convert back to positive for display\n",
    "\n",
    "\n",
    "# Example usage:\n",
    "max_heap = MaxHeap()\n",
    "max_heap.insert(10)\n",
    "max_heap.insert(20)\n",
    "max_heap.insert(5)\n",
    "max_heap.insert(30)\n",
    "\n",
    "print(\"Max Heap:\", max_heap)             # Output: Max Heap: [30, 20, 5, 10]\n",
    "print(\"Max value extracted:\", max_heap.extract_max())  # Output: Max value extracted: 30\n",
    "print(\"Max Heap after extraction:\", max_heap)           # Output: Max Heap after extraction: [20, 10, 5]\n"
   ]
  },
  {
   "cell_type": "markdown",
   "metadata": {},
   "source": [
    "## Priority queues"
   ]
  },
  {
   "cell_type": "code",
   "execution_count": 8,
   "metadata": {},
   "outputs": [
    {
     "name": "stdout",
     "output_type": "stream",
     "text": [
      "Highest priority task: task2\n",
      "Next highest priority task: task3\n"
     ]
    }
   ],
   "source": [
    "import heapq\n",
    "\n",
    "class MaxPriorityQueue:\n",
    "    def __init__(self):\n",
    "        self.heap = []\n",
    "\n",
    "    def insert(self, item, priority):\n",
    "        \"\"\"Insert an item with the given priority.\"\"\"\n",
    "        heapq.heappush(self.heap, (-priority, item))  # Use negative priority for max heap behavior\n",
    "\n",
    "    def extract_max(self):\n",
    "        \"\"\"Remove and return the item with the highest priority.\"\"\"\n",
    "        return heapq.heappop(self.heap)[1] if self.heap else None\n",
    "\n",
    "    def peek(self):\n",
    "        \"\"\"Return the item with the highest priority without removing it.\"\"\"\n",
    "        return self.heap[0][1] if self.heap else None\n",
    "\n",
    "# Example usage:\n",
    "pq = MaxPriorityQueue()\n",
    "pq.insert(\"task1\", 1)\n",
    "pq.insert(\"task2\", 3)\n",
    "pq.insert(\"task3\", 2)\n",
    "\n",
    "print(\"Highest priority task:\", pq.extract_max())  # Output: Highest priority task: task2\n",
    "print(\"Next highest priority task:\", pq.extract_max())  # Output: Next highest priority task: task3\n"
   ]
  },
  {
   "cell_type": "markdown",
   "metadata": {},
   "source": [
    "## K largest elements"
   ]
  },
  {
   "cell_type": "code",
   "execution_count": 9,
   "metadata": {},
   "outputs": [
    {
     "name": "stdout",
     "output_type": "stream",
     "text": [
      "The 3 largest elements are: [15, 12, 11]\n"
     ]
    }
   ],
   "source": [
    "import heapq\n",
    "\n",
    "def k_largest_elements(arr, k):\n",
    "    \"\"\"Find the k largest elements in the array.\"\"\"\n",
    "    if k <= 0:\n",
    "        return []\n",
    "    \n",
    "    # Create a min heap of the first k elements\n",
    "    min_heap = arr[:k]\n",
    "    heapq.heapify(min_heap)\n",
    "\n",
    "    # Iterate through the remaining elements\n",
    "    for num in arr[k:]:\n",
    "        if num > min_heap[0]:  # Compare with the smallest in the heap\n",
    "            heapq.heappop(min_heap)  # Remove the smallest\n",
    "            heapq.heappush(min_heap, num)  # Add the current number\n",
    "\n",
    "    return sorted(min_heap, reverse=True)  # Sort to get the largest elements\n",
    "\n",
    "# Example usage:\n",
    "arr = [3, 1, 5, 12, 2, 11, 15, 7]\n",
    "k = 3\n",
    "print(\"The 3 largest elements are:\", k_largest_elements(arr, k))  # Output: The 3 largest elements are: [15, 12, 11]\n"
   ]
  },
  {
   "cell_type": "markdown",
   "metadata": {},
   "source": [
    "## Heap sort\n"
   ]
  },
  {
   "cell_type": "code",
   "execution_count": 10,
   "metadata": {},
   "outputs": [
    {
     "name": "stdout",
     "output_type": "stream",
     "text": [
      "Sorted array is: [1, 2, 3, 5, 12]\n"
     ]
    }
   ],
   "source": [
    "def heapify(arr, n, i):\n",
    "    \"\"\"Ensure the subtree rooted at index i is a max heap.\"\"\"\n",
    "    largest = i\n",
    "    left = 2 * i + 1\n",
    "    right = 2 * i + 2\n",
    "\n",
    "    # Check if left child exists and is greater than root\n",
    "    if left < n and arr[left] > arr[largest]:\n",
    "        largest = left\n",
    "\n",
    "    # Check if right child exists and is greater than largest so far\n",
    "    if right < n and arr[right] > arr[largest]:\n",
    "        largest = right\n",
    "\n",
    "    # Swap and continue heapifying if root is not largest\n",
    "    if largest != i:\n",
    "        arr[i], arr[largest] = arr[largest], arr[i]  # Swap\n",
    "        heapify(arr, n, largest)\n",
    "\n",
    "def heap_sort(arr):\n",
    "    \"\"\"Perform heap sort on the array.\"\"\"\n",
    "    n = len(arr)\n",
    "\n",
    "    # Build max heap\n",
    "    for i in range(n // 2 - 1, -1, -1):\n",
    "        heapify(arr, n, i)\n",
    "\n",
    "    # Extract elements from the heap\n",
    "    for i in range(n - 1, 0, -1):\n",
    "        arr[i], arr[0] = arr[0], arr[i]  # Swap\n",
    "        heapify(arr, i, 0)  # Heapify the root\n",
    "\n",
    "# Example usage:\n",
    "arr = [3, 1, 5, 12, 2]\n",
    "heap_sort(arr)\n",
    "print(\"Sorted array is:\", arr)  # Output: Sorted array is: [1, 2, 3, 5, 12]\n"
   ]
  }
 ],
 "metadata": {
  "kernelspec": {
   "display_name": "Python 3",
   "language": "python",
   "name": "python3"
  },
  "language_info": {
   "codemirror_mode": {
    "name": "ipython",
    "version": 3
   },
   "file_extension": ".py",
   "mimetype": "text/x-python",
   "name": "python",
   "nbconvert_exporter": "python",
   "pygments_lexer": "ipython3",
   "version": "3.12.4"
  }
 },
 "nbformat": 4,
 "nbformat_minor": 2
}
