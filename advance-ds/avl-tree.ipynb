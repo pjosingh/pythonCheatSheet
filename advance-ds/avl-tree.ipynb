{
 "cells": [
  {
   "cell_type": "code",
   "execution_count": 1,
   "metadata": {},
   "outputs": [
    {
     "name": "stdout",
     "output_type": "stream",
     "text": [
      "10 20 25 30 40 50 "
     ]
    }
   ],
   "source": [
    "class AVLNode:\n",
    "    def __init__(self, key):\n",
    "        self.key = key\n",
    "        self.height = 1\n",
    "        self.left = None\n",
    "        self.right = None\n",
    "\n",
    "class AVLTree:\n",
    "    def get_height(self, node):\n",
    "        return node.height if node else 0\n",
    "\n",
    "    def update_height(self, node):\n",
    "        node.height = 1 + max(self.get_height(node.left), self.get_height(node.right))\n",
    "\n",
    "    def rotate_right(self, y):\n",
    "        x = y.left\n",
    "        T2 = x.right\n",
    "        x.right = y\n",
    "        y.left = T2\n",
    "        self.update_height(y)\n",
    "        self.update_height(x)\n",
    "        return x\n",
    "\n",
    "    def rotate_left(self, x):\n",
    "        y = x.right\n",
    "        T2 = y.left\n",
    "        y.left = x\n",
    "        x.right = T2\n",
    "        self.update_height(x)\n",
    "        self.update_height(y)\n",
    "        return y\n",
    "\n",
    "    def balance(self, node):\n",
    "        balance_factor = self.get_height(node.left) - self.get_height(node.right)\n",
    "        if balance_factor > 1:\n",
    "            if self.get_height(node.left.left) >= self.get_height(node.left.right):\n",
    "                return self.rotate_right(node)\n",
    "            else:\n",
    "                node.left = self.rotate_left(node.left)\n",
    "                return self.rotate_right(node)\n",
    "        if balance_factor < -1:\n",
    "            if self.get_height(node.right.right) >= self.get_height(node.right.left):\n",
    "                return self.rotate_left(node)\n",
    "            else:\n",
    "                node.right = self.rotate_right(node.right)\n",
    "                return self.rotate_left(node)\n",
    "        return node\n",
    "\n",
    "    def insert(self, node, key):\n",
    "        if not node:\n",
    "            return AVLNode(key)\n",
    "        elif key < node.key:\n",
    "            node.left = self.insert(node.left, key)\n",
    "        else:\n",
    "            node.right = self.insert(node.right, key)\n",
    "        self.update_height(node)\n",
    "        return self.balance(node)\n",
    "\n",
    "    def in_order_traversal(self, root):\n",
    "        if root:\n",
    "            self.in_order_traversal(root.left)\n",
    "            print(root.key, end=\" \")\n",
    "            self.in_order_traversal(root.right)\n",
    "\n",
    "# Usage example\n",
    "avl_tree = AVLTree()\n",
    "root = None\n",
    "for key in [10, 20, 30, 40, 50, 25]:\n",
    "    root = avl_tree.insert(root, key)\n",
    "\n",
    "avl_tree.in_order_traversal(root)  # Outputs the tree in sorted order\n"
   ]
  }
 ],
 "metadata": {
  "kernelspec": {
   "display_name": "Python 3",
   "language": "python",
   "name": "python3"
  },
  "language_info": {
   "codemirror_mode": {
    "name": "ipython",
    "version": 3
   },
   "file_extension": ".py",
   "mimetype": "text/x-python",
   "name": "python",
   "nbconvert_exporter": "python",
   "pygments_lexer": "ipython3",
   "version": "3.12.4"
  }
 },
 "nbformat": 4,
 "nbformat_minor": 2
}
