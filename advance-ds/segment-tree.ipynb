{
 "cells": [
  {
   "cell_type": "code",
   "execution_count": 1,
   "metadata": {},
   "outputs": [
    {
     "name": "stdout",
     "output_type": "stream",
     "text": [
      "5\n",
      "13\n"
     ]
    }
   ],
   "source": [
    "class SegmentTree:\n",
    "    def __init__(self, arr):\n",
    "        self.n = len(arr)\n",
    "        self.tree = [0] * (2 * self.n)\n",
    "        self.build(arr)\n",
    "\n",
    "    def build(self, arr):\n",
    "        for i in range(self.n):\n",
    "            self.tree[i + self.n] = arr[i]\n",
    "        for i in range(self.n - 1, 0, -1):\n",
    "            self.tree[i] = self.tree[2 * i] + self.tree[2 * i + 1]\n",
    "\n",
    "    def update(self, pos, value):\n",
    "        pos += self.n\n",
    "        self.tree[pos] = value\n",
    "        while pos > 1:\n",
    "            pos //= 2\n",
    "            self.tree[pos] = self.tree[2 * pos] + self.tree[2 * pos + 1]\n",
    "\n",
    "    def query(self, left, right):\n",
    "        result = 0\n",
    "        left += self.n\n",
    "        right += self.n\n",
    "        while left < right:\n",
    "            if left % 2:\n",
    "                result += self.tree[left]\n",
    "                left += 1\n",
    "            if right % 2:\n",
    "                right -= 1\n",
    "                result += self.tree[right]\n",
    "            left //= 2\n",
    "            right //= 2\n",
    "        return result\n",
    "\n",
    "# Usage example\n",
    "arr = [1, 2, 3, 4, 5]\n",
    "st = SegmentTree(arr)\n",
    "print(st.query(1, 3))  # Sum from index 1 to 2, Output: 5\n",
    "st.update(1, 10)\n",
    "print(st.query(1, 3))  # Output after update: 13\n"
   ]
  }
 ],
 "metadata": {
  "kernelspec": {
   "display_name": "Python 3",
   "language": "python",
   "name": "python3"
  },
  "language_info": {
   "codemirror_mode": {
    "name": "ipython",
    "version": 3
   },
   "file_extension": ".py",
   "mimetype": "text/x-python",
   "name": "python",
   "nbconvert_exporter": "python",
   "pygments_lexer": "ipython3",
   "version": "3.12.4"
  }
 },
 "nbformat": 4,
 "nbformat_minor": 2
}
