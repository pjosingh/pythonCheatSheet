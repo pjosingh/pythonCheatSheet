{
 "cells": [
  {
   "cell_type": "code",
   "execution_count": 1,
   "metadata": {},
   "outputs": [
    {
     "name": "stdout",
     "output_type": "stream",
     "text": [
      "True\n",
      "False\n"
     ]
    }
   ],
   "source": [
    "class TSTNode:\n",
    "    def __init__(self, char):\n",
    "        self.char = char\n",
    "        self.left = None\n",
    "        self.eq = None\n",
    "        self.right = None\n",
    "        self.is_end = False\n",
    "\n",
    "class TernarySearchTree:\n",
    "    def __init__(self):\n",
    "        self.root = None\n",
    "\n",
    "    def insert(self, word):\n",
    "        self.root = self._insert(self.root, word, 0)\n",
    "\n",
    "    def _insert(self, node, word, index):\n",
    "        char = word[index]\n",
    "        if not node:\n",
    "            node = TSTNode(char)\n",
    "        if char < node.char:\n",
    "            node.left = self._insert(node.left, word, index)\n",
    "        elif char > node.char:\n",
    "            node.right = self._insert(node.right, word, index)\n",
    "        else:\n",
    "            if index + 1 == len(word):\n",
    "                node.is_end = True\n",
    "            else:\n",
    "                node.eq = self._insert(node.eq, word, index + 1)\n",
    "        return node\n",
    "\n",
    "    def search(self, word):\n",
    "        return self._search(self.root, word, 0)\n",
    "\n",
    "    def _search(self, node, word, index):\n",
    "        if not node:\n",
    "            return False\n",
    "        char = word[index]\n",
    "        if char < node.char:\n",
    "            return self._search(node.left, word, index)\n",
    "        elif char > node.char:\n",
    "            return self._search(node.right, word, index)\n",
    "        else:\n",
    "            if index == len(word) - 1:\n",
    "                return node.is_end\n",
    "            return self._search(node.eq, word, index + 1)\n",
    "\n",
    "# Usage example\n",
    "tst = TernarySearchTree()\n",
    "tst.insert(\"cat\")\n",
    "tst.insert(\"bat\")\n",
    "print(tst.search(\"cat\"))  # True\n",
    "print(tst.search(\"rat\"))  # False\n"
   ]
  }
 ],
 "metadata": {
  "kernelspec": {
   "display_name": "Python 3",
   "language": "python",
   "name": "python3"
  },
  "language_info": {
   "codemirror_mode": {
    "name": "ipython",
    "version": 3
   },
   "file_extension": ".py",
   "mimetype": "text/x-python",
   "name": "python",
   "nbconvert_exporter": "python",
   "pygments_lexer": "ipython3",
   "version": "3.12.4"
  }
 },
 "nbformat": 4,
 "nbformat_minor": 2
}
