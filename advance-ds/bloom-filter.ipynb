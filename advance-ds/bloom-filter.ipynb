{
 "cells": [
  {
   "cell_type": "code",
   "execution_count": 1,
   "metadata": {},
   "outputs": [
    {
     "ename": "ModuleNotFoundError",
     "evalue": "No module named 'bitarray'",
     "output_type": "error",
     "traceback": [
      "\u001b[1;31m---------------------------------------------------------------------------\u001b[0m",
      "\u001b[1;31mModuleNotFoundError\u001b[0m                       Traceback (most recent call last)",
      "Cell \u001b[1;32mIn[1], line 1\u001b[0m\n\u001b[1;32m----> 1\u001b[0m \u001b[38;5;28;01mfrom\u001b[39;00m \u001b[38;5;21;01mbitarray\u001b[39;00m \u001b[38;5;28;01mimport\u001b[39;00m bitarray\n\u001b[0;32m      2\u001b[0m \u001b[38;5;28;01mimport\u001b[39;00m \u001b[38;5;21;01mmmh3\u001b[39;00m\n\u001b[0;32m      4\u001b[0m \u001b[38;5;28;01mclass\u001b[39;00m \u001b[38;5;21;01mBloomFilter\u001b[39;00m:\n",
      "\u001b[1;31mModuleNotFoundError\u001b[0m: No module named 'bitarray'"
     ]
    }
   ],
   "source": [
    "from bitarray import bitarray\n",
    "import mmh3\n",
    "\n",
    "class BloomFilter:\n",
    "    def __init__(self, size, hash_count):\n",
    "        self.size = size\n",
    "        self.hash_count = hash_count\n",
    "        self.bit_array = bitarray(size)\n",
    "        self.bit_array.setall(0)\n",
    "\n",
    "    def add(self, item):\n",
    "        for i in range(self.hash_count):\n",
    "            index = mmh3.hash(item, i) % self.size\n",
    "            self.bit_array[index] = 1\n",
    "\n",
    "    def check(self, item):\n",
    "        for i in range(self.hash_count):\n",
    "            index = mmh3.hash(item, i) % self.size\n",
    "            if self.bit_array[index] == 0:\n",
    "                return False\n",
    "        return True\n",
    "\n",
    "# Usage example\n",
    "bloom = BloomFilter(100, 5)\n",
    "bloom.add(\"apple\")\n",
    "print(bloom.check(\"apple\"))  # True\n",
    "print(bloom.check(\"banana\")) # False, possibly True with false positive\n"
   ]
  }
 ],
 "metadata": {
  "kernelspec": {
   "display_name": "Python 3",
   "language": "python",
   "name": "python3"
  },
  "language_info": {
   "codemirror_mode": {
    "name": "ipython",
    "version": 3
   },
   "file_extension": ".py",
   "mimetype": "text/x-python",
   "name": "python",
   "nbconvert_exporter": "python",
   "pygments_lexer": "ipython3",
   "version": "3.12.4"
  }
 },
 "nbformat": 4,
 "nbformat_minor": 2
}
