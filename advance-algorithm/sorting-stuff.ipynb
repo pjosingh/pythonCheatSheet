{
 "cells": [
  {
   "cell_type": "markdown",
   "metadata": {},
   "source": [
    "### Simple arrays"
   ]
  },
  {
   "cell_type": "code",
   "execution_count": 7,
   "metadata": {},
   "outputs": [
    {
     "name": "stdout",
     "output_type": "stream",
     "text": [
      "[1, 2, 5, 5, 6, 9]\n"
     ]
    }
   ],
   "source": [
    "numbers = [5, 2, 9, 1, 5, 6]\n",
    "sorted_numbers = sorted(numbers)\n",
    "print(sorted_numbers)\n"
   ]
  },
  {
   "cell_type": "code",
   "execution_count": 8,
   "metadata": {},
   "outputs": [
    {
     "name": "stdout",
     "output_type": "stream",
     "text": [
      "[9, 6, 5, 5, 2, 1]\n"
     ]
    }
   ],
   "source": [
    "sorted_numbers_desc = sorted(numbers, reverse=True)\n",
    "print(sorted_numbers_desc)\n"
   ]
  },
  {
   "cell_type": "code",
   "execution_count": 9,
   "metadata": {},
   "outputs": [
    {
     "name": "stdout",
     "output_type": "stream",
     "text": [
      "[1, 2, 5, 5, 6, 9]\n"
     ]
    }
   ],
   "source": [
    "numbers = [5, 2, 9, 1, 5, 6]\n",
    "numbers.sort()\n",
    "print(numbers)\n"
   ]
  },
  {
   "cell_type": "markdown",
   "metadata": {},
   "source": [
    "### Sort by different Keys"
   ]
  },
  {
   "cell_type": "code",
   "execution_count": 10,
   "metadata": {},
   "outputs": [
    {
     "name": "stdout",
     "output_type": "stream",
     "text": [
      "['fig', 'kiwi', 'apple', 'banana', 'blueberry']\n"
     ]
    }
   ],
   "source": [
    "words = [\"apple\", \"banana\", \"fig\", \"kiwi\", \"blueberry\"]\n",
    "sorted_words = sorted(words, key=len)\n",
    "print(sorted_words)\n"
   ]
  },
  {
   "cell_type": "code",
   "execution_count": 11,
   "metadata": {},
   "outputs": [
    {
     "name": "stdout",
     "output_type": "stream",
     "text": [
      "[{'name': 'Bob', 'age': 25}, {'name': 'Alice', 'age': 30}, {'name': 'Charlie', 'age': 35}]\n"
     ]
    }
   ],
   "source": [
    "people = [{\"name\": \"Alice\", \"age\": 30}, {\"name\": \"Bob\", \"age\": 25}, {\"name\": \"Charlie\", \"age\": 35}]\n",
    "sorted_people = sorted(people, key=lambda x: x[\"age\"])\n",
    "print(sorted_people)\n"
   ]
  },
  {
   "cell_type": "code",
   "execution_count": 3,
   "metadata": {},
   "outputs": [
    {
     "name": "stdout",
     "output_type": "stream",
     "text": [
      "[var1: 0 Name: test, var1: 5 Name: test, var1: 10 Name: test, var1: 11 Name: testA, var1: 11 Name: testB]\n"
     ]
    }
   ],
   "source": [
    "class TestClass: \n",
    "    def __init__(self, var1, name:str):\n",
    "        self.var1 = var1\n",
    "        self.name = name\n",
    "        \n",
    "    def __repr__(self):\n",
    "        return f\"var1: {self.var1} Name: {self.name}\"\n",
    "\n",
    "mylist = []\n",
    "mylist.append(TestClass(10, \"test\"))\n",
    "mylist.append(TestClass(0, \"test\"))\n",
    "mylist.append(TestClass(5, \"test\"))\n",
    "mylist.append(TestClass(11, \"testB\"))\n",
    "mylist.append(TestClass(11, \"testA\"))\n",
    "\n",
    "mylist = sorted(mylist, key=lambda x:(x.var1,x.name))\n",
    "print(mylist)"
   ]
  },
  {
   "cell_type": "code",
   "execution_count": 1,
   "metadata": {},
   "outputs": [
    {
     "name": "stdout",
     "output_type": "stream",
     "text": [
      "[var1: 0 Name: test, var1: 5 Name: test, var1: 10 Name: test, var1: 11 Name: testA, var1: 11 Name: testB]\n"
     ]
    }
   ],
   "source": [
    "class TestClass: \n",
    "    def __init__(self, var1, name:str):\n",
    "        self.var1 = var1\n",
    "        self.name = name\n",
    "        \n",
    "    def __repr__(self):\n",
    "        return f\"var1: {self.var1} Name: {self.name}\"\n",
    "\n",
    "    \n",
    "mylist = []\n",
    "mylist.append(TestClass(10, \"test\"))\n",
    "mylist.append(TestClass(0, \"test\"))\n",
    "mylist.append(TestClass(5, \"test\"))\n",
    "mylist.append(TestClass(11, \"testB\"))\n",
    "mylist.append(TestClass(11, \"testA\"))\n",
    "\n",
    "mylist = sorted(mylist, key=lambda x:(x.var1,x.name))\n",
    "print(mylist)"
   ]
  },
  {
   "cell_type": "code",
   "execution_count": 2,
   "metadata": {},
   "outputs": [
    {
     "name": "stdout",
     "output_type": "stream",
     "text": [
      "[1, 2, 5, 5, 6, 9]\n"
     ]
    }
   ],
   "source": [
    "from functools import cmp_to_key\n",
    "\n",
    "# Comparator-like function\n",
    "def compare(x, y):\n",
    "    if x < y:\n",
    "        return -1\n",
    "    elif x > y:\n",
    "        return 1\n",
    "    else:\n",
    "        return 0\n",
    "\n",
    "# List to sort\n",
    "numbers = [5, 2, 9, 1, 5, 6]\n",
    "\n",
    "# Sort using cmp_to_key with the comparator function\n",
    "sorted_numbers = sorted(numbers, key=cmp_to_key(compare))\n",
    "\n",
    "print(sorted_numbers)\n"
   ]
  }
 ],
 "metadata": {
  "kernelspec": {
   "display_name": "Python 3",
   "language": "python",
   "name": "python3"
  },
  "language_info": {
   "codemirror_mode": {
    "name": "ipython",
    "version": 3
   },
   "file_extension": ".py",
   "mimetype": "text/x-python",
   "name": "python",
   "nbconvert_exporter": "python",
   "pygments_lexer": "ipython3",
   "version": "3.12.4"
  }
 },
 "nbformat": 4,
 "nbformat_minor": 2
}
