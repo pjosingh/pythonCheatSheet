{
 "cells": [
  {
   "cell_type": "markdown",
   "metadata": {},
   "source": [
    "# Queue using collections"
   ]
  },
  {
   "cell_type": "code",
   "execution_count": 1,
   "metadata": {},
   "outputs": [
    {
     "name": "stdout",
     "output_type": "stream",
     "text": [
      "Dequeued item: 10\n",
      "Front item is: 20\n",
      "Is queue empty? False\n",
      "Queue size is: 2\n"
     ]
    }
   ],
   "source": [
    "from collections import deque\n",
    "\n",
    "# Initialize a queue\n",
    "queue = deque()\n",
    "\n",
    "# Enqueue (add) items\n",
    "queue.append(10)\n",
    "queue.append(20)\n",
    "queue.append(30)\n",
    "\n",
    "# Dequeue (remove) items\n",
    "first_item = queue.popleft()\n",
    "print(\"Dequeued item:\", first_item)  # Output: Dequeued item: 10\n",
    "\n",
    "# Peek at the front item\n",
    "front_item = queue[0]\n",
    "print(\"Front item is:\", front_item)  # Output: Front item is: 20\n",
    "\n",
    "# Check if queue is empty\n",
    "is_empty = len(queue) == 0\n",
    "print(\"Is queue empty?\", is_empty)  # Output: Is queue empty? False\n",
    "\n",
    "# Queue size\n",
    "queue_size = len(queue)\n",
    "print(\"Queue size is:\", queue_size)  # Output: Queue size is: 2\n"
   ]
  },
  {
   "cell_type": "markdown",
   "metadata": {},
   "source": [
    "# Using Queue module"
   ]
  },
  {
   "cell_type": "code",
   "execution_count": 4,
   "metadata": {},
   "outputs": [
    {
     "name": "stdout",
     "output_type": "stream",
     "text": [
      "Dequeued item: 10\n",
      "Is queue empty? False\n",
      "Queue size is: 2\n"
     ]
    }
   ],
   "source": [
    "from queue import Queue\n",
    "\n",
    "# Initialize a queue\n",
    "queue = Queue()\n",
    "\n",
    "# Enqueue items\n",
    "queue.put(10)\n",
    "queue.put(20)\n",
    "queue.put(30)\n",
    "\n",
    "# Dequeue items\n",
    "first_item = queue.get()\n",
    "print(\"Dequeued item:\", first_item)  # Output: Dequeued item: 10\n",
    "\n",
    "# Check if queue is empty\n",
    "is_empty = queue.empty()\n",
    "print(\"Is queue empty?\", is_empty)  # Output: Is queue empty? False\n",
    "\n",
    "# Queue size\n",
    "queue_size = queue.qsize()\n",
    "print(\"Queue size is:\", queue_size)  # Output: Queue size is: 2\n"
   ]
  },
  {
   "cell_type": "markdown",
   "metadata": {},
   "source": [
    "Queue using lists\n"
   ]
  },
  {
   "cell_type": "code",
   "execution_count": 5,
   "metadata": {},
   "outputs": [
    {
     "name": "stdout",
     "output_type": "stream",
     "text": [
      "Dequeued item: 10\n",
      "Is queue empty? False\n",
      "Queue size is: 2\n"
     ]
    }
   ],
   "source": [
    "# Initialize a queue\n",
    "queue = []\n",
    "\n",
    "# Enqueue items\n",
    "queue.append(10)\n",
    "queue.append(20)\n",
    "queue.append(30)\n",
    "\n",
    "# Dequeue items\n",
    "first_item = queue.pop(0)\n",
    "print(\"Dequeued item:\", first_item)  # Output: Dequeued item: 10\n",
    "\n",
    "# Check if queue is empty\n",
    "is_empty = len(queue) == 0\n",
    "print(\"Is queue empty?\", is_empty)  # Output: Is queue empty? False\n",
    "\n",
    "# Queue size\n",
    "queue_size = len(queue)\n",
    "print(\"Queue size is:\", queue_size)  # Output: Queue size is: 2\n"
   ]
  }
 ],
 "metadata": {
  "kernelspec": {
   "display_name": "Python 3",
   "language": "python",
   "name": "python3"
  },
  "language_info": {
   "codemirror_mode": {
    "name": "ipython",
    "version": 3
   },
   "file_extension": ".py",
   "mimetype": "text/x-python",
   "name": "python",
   "nbconvert_exporter": "python",
   "pygments_lexer": "ipython3",
   "version": "3.12.4"
  }
 },
 "nbformat": 4,
 "nbformat_minor": 2
}
