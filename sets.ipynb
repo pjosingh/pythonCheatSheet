{
 "cells": [
  {
   "cell_type": "markdown",
   "metadata": {},
   "source": [
    "## Simple sets"
   ]
  },
  {
   "cell_type": "code",
   "execution_count": 8,
   "metadata": {},
   "outputs": [
    {
     "name": "stdout",
     "output_type": "stream",
     "text": [
      "Set created using curly braces: {1, 2, 3, 4}\n",
      "Set created using set() function: {3, 4, 5, 6}\n",
      "Set after adding 5: {1, 2, 3, 4, 5}\n",
      "Set after adding 3 again: {1, 2, 3, 4, 5}\n"
     ]
    }
   ],
   "source": [
    "# Creating a set using curly braces\n",
    "my_set = {1, 2, 3, 4}\n",
    "print(\"Set created using curly braces:\", my_set)  # Output: {1, 2, 3, 4}\n",
    "\n",
    "# Creating a set using the set() function\n",
    "another_set = set([3, 4, 5, 6])\n",
    "print(\"Set created using set() function:\", another_set)  # Output: {3, 4, 5, 6}\n",
    "my_set.add(5)\n",
    "print(\"Set after adding 5:\", my_set)  # Output: {1, 2, 3, 4, 5}\n",
    "\n",
    "my_set.add(3)  # Attempting to add a duplicate\n",
    "print(\"Set after adding 3 again:\", my_set)  # Output: {1, 2, 3, 4, 5}\n"
   ]
  },
  {
   "cell_type": "code",
   "execution_count": 9,
   "metadata": {},
   "outputs": [
    {
     "name": "stdout",
     "output_type": "stream",
     "text": [
      "Set after adding 5: {1, 2, 3, 4, 5}\n",
      "Set after adding 3 again: {1, 2, 3, 4, 5}\n"
     ]
    }
   ],
   "source": [
    "my_set.add(5)\n",
    "print(\"Set after adding 5:\", my_set)  # Output: {1, 2, 3, 4, 5}\n",
    "\n",
    "my_set.add(3)  # Attempting to add a duplicate\n",
    "print(\"Set after adding 3 again:\", my_set)  # Output: {1, 2, 3, 4, 5}\n"
   ]
  },
  {
   "cell_type": "code",
   "execution_count": 10,
   "metadata": {},
   "outputs": [
    {
     "name": "stdout",
     "output_type": "stream",
     "text": [
      "Set after removing 3: {1, 2, 4, 5}\n",
      "Set after discarding 6 (not present): {1, 2, 4, 5}\n"
     ]
    }
   ],
   "source": [
    "my_set.remove(3)\n",
    "print(\"Set after removing 3:\", my_set)  # Output: {1, 2, 4, 5}\n",
    "\n",
    "my_set.discard(6)  # No error if the element does not exist\n",
    "print(\"Set after discarding 6 (not present):\", my_set)  # Output: {1, 2, 4, 5}\n"
   ]
  },
  {
   "cell_type": "code",
   "execution_count": 11,
   "metadata": {},
   "outputs": [
    {
     "ename": "KeyError",
     "evalue": "3",
     "output_type": "error",
     "traceback": [
      "\u001b[1;31m---------------------------------------------------------------------------\u001b[0m",
      "\u001b[1;31mKeyError\u001b[0m                                  Traceback (most recent call last)",
      "Cell \u001b[1;32mIn[11], line 1\u001b[0m\n\u001b[1;32m----> 1\u001b[0m \u001b[43mmy_set\u001b[49m\u001b[38;5;241;43m.\u001b[39;49m\u001b[43mremove\u001b[49m\u001b[43m(\u001b[49m\u001b[38;5;241;43m3\u001b[39;49m\u001b[43m)\u001b[49m\n",
      "\u001b[1;31mKeyError\u001b[0m: 3"
     ]
    }
   ],
   "source": [
    "my_set.remove(3)"
   ]
  },
  {
   "cell_type": "code",
   "execution_count": null,
   "metadata": {},
   "outputs": [
    {
     "name": "stdout",
     "output_type": "stream",
     "text": [
      "Union of A and B: {1, 2, 3, 4, 5}\n",
      "Intersection of A and B: {3}\n",
      "Difference of A and B (A - B): {1, 2}\n",
      "Symmetric Difference of A and B: {1, 2, 4, 5}\n"
     ]
    }
   ],
   "source": [
    "set_a = {1, 2, 3}\n",
    "set_b = {3, 4, 5}\n",
    "\n",
    "# Union\n",
    "union_set = set_a | set_b\n",
    "print(\"Union of A and B:\", union_set)  # Output: {1, 2, 3, 4, 5}\n",
    "\n",
    "# Intersection\n",
    "intersection_set = set_a & set_b\n",
    "print(\"Intersection of A and B:\", intersection_set)  # Output: {3}\n",
    "\n",
    "# Difference\n",
    "difference_set = set_a - set_b\n",
    "print(\"Difference of A and B (A - B):\", difference_set)  # Output: {1, 2}\n",
    "\n",
    "# Symmetric Difference\n",
    "symmetric_difference_set = set_a ^ set_b\n",
    "print(\"Symmetric Difference of A and B:\", symmetric_difference_set)  # Output: {1, 2, 4, 5}\n"
   ]
  }
 ],
 "metadata": {
  "kernelspec": {
   "display_name": "Python 3",
   "language": "python",
   "name": "python3"
  },
  "language_info": {
   "codemirror_mode": {
    "name": "ipython",
    "version": 3
   },
   "file_extension": ".py",
   "mimetype": "text/x-python",
   "name": "python",
   "nbconvert_exporter": "python",
   "pygments_lexer": "ipython3",
   "version": "3.12.4"
  }
 },
 "nbformat": 4,
 "nbformat_minor": 2
}
